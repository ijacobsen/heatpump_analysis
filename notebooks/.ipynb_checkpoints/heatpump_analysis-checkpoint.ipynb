{
 "cells": [
  {
   "cell_type": "code",
   "execution_count": 1,
   "id": "417ca689",
   "metadata": {},
   "outputs": [],
   "source": [
    "import pandas as pd\n",
    "from matplotlib import pyplot as plt\n",
    "import numpy as np\n",
    "pd.options.mode.chained_assignment = None  # default='warn'\n"
   ]
  },
  {
   "cell_type": "markdown",
   "id": "69556898",
   "metadata": {},
   "source": [
    "### Mitsubishi Models: MXZ-3C24NA2 (standard model) vs MXZ-3C24NAHZ2 (h2i, low temp model)\n"
   ]
  },
  {
   "cell_type": "markdown",
   "id": "7d487372",
   "metadata": {},
   "source": [
    "![alt text](../imgs/std.png \"std\")"
   ]
  },
  {
   "cell_type": "code",
   "execution_count": 2,
   "id": "a852c58b",
   "metadata": {},
   "outputs": [],
   "source": [
    "# manually copying data from spec sheet\n",
    "std_rated = [25000, 14000]\n",
    "std_rated_power_inputs = [1.75, 2.12]\n",
    "std_temp = [47, 17]"
   ]
  },
  {
   "cell_type": "markdown",
   "id": "6c363f8c",
   "metadata": {},
   "source": [
    "![alt text](../imgs/h2i.png \"h2i\")"
   ]
  },
  {
   "cell_type": "code",
   "execution_count": 3,
   "id": "ca8d3775",
   "metadata": {},
   "outputs": [],
   "source": [
    "# manually copying data from spec sheet\n",
    "h2i_rated = [25000, 14000]\n",
    "h2i_rated_power_inputs = [1.72, 1.62]\n",
    "h2i_temp = [47, 17]"
   ]
  },
  {
   "cell_type": "markdown",
   "id": "001fc0fe",
   "metadata": {},
   "source": [
    "# Conversions\n",
    "\n",
    "COP = Output Capacity / Power Input = (BTU/hr) / (Watt)\n",
    "\n",
    "1 kW = 3412 BTU\n",
    "\n",
    "TPC = total power consumption in kWh\n",
    "\n",
    "TC = BTU / hr = heating capacity\n",
    "\n",
    "COP = TC / (TPC * 3.412) = (BTU/hr) / (kW/hr * 3.412 BTU/kw)\n",
    "\n",
    "Cost per 15k BTU = (15 kBTU / (COP * 3.412 BTU/kW)) * price_per_kwh\n",
    "\n",
    "max_capacity_kw = max_capacity_btu / 3412\n",
    "cop = max_capacity_kw / max_power_input"
   ]
  },
  {
   "cell_type": "markdown",
   "id": "9a32530e",
   "metadata": {},
   "source": [
    "## calculate COP from provided data"
   ]
  },
  {
   "cell_type": "code",
   "execution_count": 4,
   "id": "28890aea",
   "metadata": {},
   "outputs": [
    {
     "data": {
      "text/html": [
       "<div>\n",
       "<style scoped>\n",
       "    .dataframe tbody tr th:only-of-type {\n",
       "        vertical-align: middle;\n",
       "    }\n",
       "\n",
       "    .dataframe tbody tr th {\n",
       "        vertical-align: top;\n",
       "    }\n",
       "\n",
       "    .dataframe thead th {\n",
       "        text-align: right;\n",
       "    }\n",
       "</style>\n",
       "<table border=\"1\" class=\"dataframe\">\n",
       "  <thead>\n",
       "    <tr style=\"text-align: right;\">\n",
       "      <th></th>\n",
       "      <th>temp</th>\n",
       "      <th>COP</th>\n",
       "      <th>rated_btu</th>\n",
       "    </tr>\n",
       "  </thead>\n",
       "  <tbody>\n",
       "    <tr>\n",
       "      <th>0</th>\n",
       "      <td>47</td>\n",
       "      <td>4.19</td>\n",
       "      <td>25000</td>\n",
       "    </tr>\n",
       "    <tr>\n",
       "      <th>1</th>\n",
       "      <td>17</td>\n",
       "      <td>1.94</td>\n",
       "      <td>14000</td>\n",
       "    </tr>\n",
       "  </tbody>\n",
       "</table>\n",
       "</div>"
      ],
      "text/plain": [
       "   temp   COP  rated_btu\n",
       "0    47  4.19      25000\n",
       "1    17  1.94      14000"
      ]
     },
     "execution_count": 4,
     "metadata": {},
     "output_type": "execute_result"
    }
   ],
   "source": [
    "# converting rated output and rated power consumption to calculate coefficient of performance (cop not in manual)\n",
    "std_cop = [round(std_rated[i] / (3412 * std_rated_power_inputs[i]), 2) for i in range(len(std_rated))]\n",
    "dat = list(zip(std_temp, std_cop, std_rated))\n",
    "std_dat = pd.DataFrame(dat, columns = ['temp', 'COP', 'rated_btu'])\n",
    "std_dat"
   ]
  },
  {
   "cell_type": "code",
   "execution_count": 5,
   "id": "09438976",
   "metadata": {
    "scrolled": true
   },
   "outputs": [
    {
     "data": {
      "text/html": [
       "<div>\n",
       "<style scoped>\n",
       "    .dataframe tbody tr th:only-of-type {\n",
       "        vertical-align: middle;\n",
       "    }\n",
       "\n",
       "    .dataframe tbody tr th {\n",
       "        vertical-align: top;\n",
       "    }\n",
       "\n",
       "    .dataframe thead th {\n",
       "        text-align: right;\n",
       "    }\n",
       "</style>\n",
       "<table border=\"1\" class=\"dataframe\">\n",
       "  <thead>\n",
       "    <tr style=\"text-align: right;\">\n",
       "      <th></th>\n",
       "      <th>temp</th>\n",
       "      <th>COP</th>\n",
       "      <th>rated_btu</th>\n",
       "    </tr>\n",
       "  </thead>\n",
       "  <tbody>\n",
       "    <tr>\n",
       "      <th>0</th>\n",
       "      <td>47</td>\n",
       "      <td>4.26</td>\n",
       "      <td>25000</td>\n",
       "    </tr>\n",
       "    <tr>\n",
       "      <th>1</th>\n",
       "      <td>17</td>\n",
       "      <td>2.53</td>\n",
       "      <td>14000</td>\n",
       "    </tr>\n",
       "  </tbody>\n",
       "</table>\n",
       "</div>"
      ],
      "text/plain": [
       "   temp   COP  rated_btu\n",
       "0    47  4.26      25000\n",
       "1    17  2.53      14000"
      ]
     },
     "execution_count": 5,
     "metadata": {},
     "output_type": "execute_result"
    }
   ],
   "source": [
    "# converting rated output and rated power consumption to calculate coefficient of performance (cop not in manual)\n",
    "h2i_cop = [round(h2i_rated[i] / (3412 * h2i_rated_power_inputs[i]), 2) for i in range(len(h2i_rated))]\n",
    "dat = list(zip(h2i_temp, h2i_cop, h2i_rated))\n",
    "h2i_dat = pd.DataFrame(dat, columns = ['temp', 'COP', 'rated_btu'])\n",
    "h2i_dat"
   ]
  },
  {
   "cell_type": "markdown",
   "id": "fc07deaa",
   "metadata": {},
   "source": [
    "## view COP curves"
   ]
  },
  {
   "cell_type": "code",
   "execution_count": 6,
   "id": "a11f530b",
   "metadata": {},
   "outputs": [
    {
     "data": {
      "text/plain": [
       "Text(0.5, 1.0, 'COP for Standard vs Hyper Heat')"
      ]
     },
     "execution_count": 6,
     "metadata": {},
     "output_type": "execute_result"
    },
    {
     "data": {
      "image/png": "[encoded data removed]",
      "text/plain": [
       "<Figure size 432x288 with 1 Axes>"
      ]
     },
     "metadata": {
      "needs_background": "light"
     },
     "output_type": "display_data"
    }
   ],
   "source": [
    "plt.plot(h2i_dat.temp, h2i_dat.COP)\n",
    "plt.plot(std_dat.temp, std_dat.COP)\n",
    "plt.xlabel('Temperature (F)')\n",
    "plt.ylabel('COP')\n",
    "plt.legend(['h2i', 'standard'])\n",
    "plt.title('COP for Standard vs Hyper Heat')"
   ]
  },
  {
   "cell_type": "markdown",
   "id": "a979e8be",
   "metadata": {},
   "source": [
    "## assuming COP linear in range given in spec sheet, find eq. describing COP"
   ]
  },
  {
   "cell_type": "code",
   "execution_count": 7,
   "id": "75514e6a",
   "metadata": {},
   "outputs": [],
   "source": [
    "from numpy.linalg import inv\n",
    "A = np.array([[47., 1.], [17., 1.]])\n",
    "A_inv = inv(A)"
   ]
  },
  {
   "cell_type": "code",
   "execution_count": 8,
   "id": "be80e62d",
   "metadata": {},
   "outputs": [],
   "source": [
    "# solve system of eqs for gl COP parameters\n",
    "std_b = std_dat.COP.values\n",
    "std_params = A_inv.dot(std_b)"
   ]
  },
  {
   "cell_type": "code",
   "execution_count": 9,
   "id": "f2f09d2b",
   "metadata": {},
   "outputs": [],
   "source": [
    "# solve system of eqs for fh COP parameters\n",
    "h2i_b = h2i_dat.COP.values\n",
    "h2i_params = A_inv.dot(h2i_b)"
   ]
  },
  {
   "cell_type": "markdown",
   "id": "de5e5256",
   "metadata": {},
   "source": [
    "## analyze costs\n",
    "\n",
    "- assume heating turns on when outside temp is 50 degrees F\n",
    "\n",
    "- COP data for drybulb indoor temps of 70 degrees F"
   ]
  },
  {
   "cell_type": "code",
   "execution_count": 10,
   "id": "be058981",
   "metadata": {},
   "outputs": [],
   "source": [
    "# load data from pickle\n",
    "data = pd.read_pickle('../data/lga_min_temp_2000-2021.pkl')"
   ]
  },
  {
   "cell_type": "code",
   "execution_count": 11,
   "id": "ab4727ec",
   "metadata": {},
   "outputs": [],
   "source": [
    "# choose times 2010-2020\n",
    "temps = data[(data.Date > '2010') & (data.Date < '2020')]\n",
    "\n",
    "# heat on days x or below\n",
    "upper_threshold = 62\n",
    "too_hot = [upper_threshold] * len(temps)\n",
    "lower_threshold = 5\n",
    "too_cold = [lower_threshold] * len(temps)"
   ]
  },
  {
   "cell_type": "code",
   "execution_count": 12,
   "id": "7fd88a15",
   "metadata": {},
   "outputs": [
    {
     "data": {
      "text/plain": [
       "Text(0.5, 1.0, 'Daily Minimum Temperatures 2010-2020')"
      ]
     },
     "execution_count": 12,
     "metadata": {},
     "output_type": "execute_result"
    },
    {
     "data": {
      "image/png": "[encoded data removed]",
      "text/plain": [
       "<Figure size 432x288 with 1 Axes>"
      ]
     },
     "metadata": {
      "needs_background": "light"
     },
     "output_type": "display_data"
    }
   ],
   "source": [
    "plt.plot(temps['Minimum Temperature'].values)\n",
    "plt.plot(too_hot)\n",
    "plt.plot(too_cold)\n",
    "plt.xlabel('Days Since 1/1/2010')\n",
    "plt.ylabel('Minimum Temperature (F)')\n",
    "plt.title('Daily Minimum Temperatures 2010-2020')"
   ]
  },
  {
   "cell_type": "code",
   "execution_count": 13,
   "id": "00ec5c1d",
   "metadata": {},
   "outputs": [],
   "source": [
    "# will not be heating on days where temp is above threshold\n",
    "temps.loc[temps['Minimum Temperature'] > upper_threshold, 'Minimum Temperature'] = np.nan\n",
    "temps.loc[temps['Minimum Temperature'] < lower_threshold, 'Minimum Temperature'] = np.nan"
   ]
  },
  {
   "cell_type": "code",
   "execution_count": 14,
   "id": "d147445d",
   "metadata": {
    "scrolled": true
   },
   "outputs": [],
   "source": [
    "# calculate daily COP values\n",
    "temps['std_daily_cop'] = round(std_params[0] * temps['Minimum Temperature'] + std_params[1], 2)\n",
    "temps['h2i_daily_cop'] = round(h2i_params[0] * temps['Minimum Temperature'] + h2i_params[1], 2)\n"
   ]
  },
  {
   "cell_type": "code",
   "execution_count": 15,
   "id": "b48fe55d",
   "metadata": {},
   "outputs": [],
   "source": [
    "# calculate daily energy use and cost per 15kBTU of heating/hr\n",
    "# 9/2021 I paid Con Edison 23 cents per kWh\n",
    "\n",
    "cost_per_kwh = .23\n",
    "\n",
    "heat_output = 24000\n",
    "btu_to_kw = heat_output / 3412.\n",
    "\n",
    "temps['std_daily_power_kwh'] = round(btu_to_kw / temps['std_daily_cop'] * 24, 2)\n",
    "temps['h2i_daily_power_kwh'] = round(btu_to_kw / temps['h2i_daily_cop'] * 24, 2)\n",
    "\n",
    "temps['std_daily_cost_$'] = round(temps['std_daily_power_kwh'] * cost_per_kwh, 2)\n",
    "temps['h2i_daily_cost_$'] = round(temps['h2i_daily_power_kwh'] * cost_per_kwh, 2)"
   ]
  },
  {
   "cell_type": "code",
   "execution_count": 16,
   "id": "d809d5f8",
   "metadata": {},
   "outputs": [
    {
     "data": {
      "text/html": [
       "<div>\n",
       "<style scoped>\n",
       "    .dataframe tbody tr th:only-of-type {\n",
       "        vertical-align: middle;\n",
       "    }\n",
       "\n",
       "    .dataframe tbody tr th {\n",
       "        vertical-align: top;\n",
       "    }\n",
       "\n",
       "    .dataframe thead th {\n",
       "        text-align: right;\n",
       "    }\n",
       "</style>\n",
       "<table border=\"1\" class=\"dataframe\">\n",
       "  <thead>\n",
       "    <tr style=\"text-align: right;\">\n",
       "      <th></th>\n",
       "      <th>Date</th>\n",
       "      <th>Minimum Temperature</th>\n",
       "      <th>Station</th>\n",
       "      <th>std_daily_cop</th>\n",
       "      <th>h2i_daily_cop</th>\n",
       "      <th>std_daily_power_kwh</th>\n",
       "      <th>h2i_daily_power_kwh</th>\n",
       "      <th>std_daily_cost_$</th>\n",
       "      <th>h2i_daily_cost_$</th>\n",
       "    </tr>\n",
       "  </thead>\n",
       "  <tbody>\n",
       "    <tr>\n",
       "      <th>3653</th>\n",
       "      <td>2010-01-01</td>\n",
       "      <td>32.0</td>\n",
       "      <td>GHCND:USW00014732</td>\n",
       "      <td>3.07</td>\n",
       "      <td>3.39</td>\n",
       "      <td>54.99</td>\n",
       "      <td>49.80</td>\n",
       "      <td>12.65</td>\n",
       "      <td>11.45</td>\n",
       "    </tr>\n",
       "    <tr>\n",
       "      <th>3654</th>\n",
       "      <td>2010-01-02</td>\n",
       "      <td>17.0</td>\n",
       "      <td>GHCND:USW00014732</td>\n",
       "      <td>1.94</td>\n",
       "      <td>2.53</td>\n",
       "      <td>87.02</td>\n",
       "      <td>66.73</td>\n",
       "      <td>20.01</td>\n",
       "      <td>15.35</td>\n",
       "    </tr>\n",
       "    <tr>\n",
       "      <th>3655</th>\n",
       "      <td>2010-01-03</td>\n",
       "      <td>18.0</td>\n",
       "      <td>GHCND:USW00014732</td>\n",
       "      <td>2.02</td>\n",
       "      <td>2.59</td>\n",
       "      <td>83.57</td>\n",
       "      <td>65.18</td>\n",
       "      <td>19.22</td>\n",
       "      <td>14.99</td>\n",
       "    </tr>\n",
       "    <tr>\n",
       "      <th>3656</th>\n",
       "      <td>2010-01-04</td>\n",
       "      <td>21.0</td>\n",
       "      <td>GHCND:USW00014732</td>\n",
       "      <td>2.24</td>\n",
       "      <td>2.76</td>\n",
       "      <td>75.36</td>\n",
       "      <td>61.17</td>\n",
       "      <td>17.33</td>\n",
       "      <td>14.07</td>\n",
       "    </tr>\n",
       "    <tr>\n",
       "      <th>3657</th>\n",
       "      <td>2010-01-05</td>\n",
       "      <td>22.0</td>\n",
       "      <td>GHCND:USW00014732</td>\n",
       "      <td>2.32</td>\n",
       "      <td>2.82</td>\n",
       "      <td>72.77</td>\n",
       "      <td>59.86</td>\n",
       "      <td>16.74</td>\n",
       "      <td>13.77</td>\n",
       "    </tr>\n",
       "    <tr>\n",
       "      <th>...</th>\n",
       "      <td>...</td>\n",
       "      <td>...</td>\n",
       "      <td>...</td>\n",
       "      <td>...</td>\n",
       "      <td>...</td>\n",
       "      <td>...</td>\n",
       "      <td>...</td>\n",
       "      <td>...</td>\n",
       "      <td>...</td>\n",
       "    </tr>\n",
       "    <tr>\n",
       "      <th>7300</th>\n",
       "      <td>2019-12-27</td>\n",
       "      <td>42.0</td>\n",
       "      <td>GHCND:USW00014732</td>\n",
       "      <td>3.82</td>\n",
       "      <td>3.97</td>\n",
       "      <td>44.19</td>\n",
       "      <td>42.52</td>\n",
       "      <td>10.16</td>\n",
       "      <td>9.78</td>\n",
       "    </tr>\n",
       "    <tr>\n",
       "      <th>7301</th>\n",
       "      <td>2019-12-28</td>\n",
       "      <td>44.0</td>\n",
       "      <td>GHCND:USW00014732</td>\n",
       "      <td>3.97</td>\n",
       "      <td>4.09</td>\n",
       "      <td>42.52</td>\n",
       "      <td>41.28</td>\n",
       "      <td>9.78</td>\n",
       "      <td>9.49</td>\n",
       "    </tr>\n",
       "    <tr>\n",
       "      <th>7302</th>\n",
       "      <td>2019-12-29</td>\n",
       "      <td>38.0</td>\n",
       "      <td>GHCND:USW00014732</td>\n",
       "      <td>3.52</td>\n",
       "      <td>3.74</td>\n",
       "      <td>47.96</td>\n",
       "      <td>45.14</td>\n",
       "      <td>11.03</td>\n",
       "      <td>10.38</td>\n",
       "    </tr>\n",
       "    <tr>\n",
       "      <th>7303</th>\n",
       "      <td>2019-12-30</td>\n",
       "      <td>38.0</td>\n",
       "      <td>GHCND:USW00014732</td>\n",
       "      <td>3.52</td>\n",
       "      <td>3.74</td>\n",
       "      <td>47.96</td>\n",
       "      <td>45.14</td>\n",
       "      <td>11.03</td>\n",
       "      <td>10.38</td>\n",
       "    </tr>\n",
       "    <tr>\n",
       "      <th>7304</th>\n",
       "      <td>2019-12-31</td>\n",
       "      <td>38.0</td>\n",
       "      <td>GHCND:USW00014732</td>\n",
       "      <td>3.52</td>\n",
       "      <td>3.74</td>\n",
       "      <td>47.96</td>\n",
       "      <td>45.14</td>\n",
       "      <td>11.03</td>\n",
       "      <td>10.38</td>\n",
       "    </tr>\n",
       "  </tbody>\n",
       "</table>\n",
       "<p>3652 rows × 9 columns</p>\n",
       "</div>"
      ],
      "text/plain": [
       "            Date  Minimum Temperature            Station  std_daily_cop  \\\n",
       "3653  2010-01-01                 32.0  GHCND:USW00014732           3.07   \n",
       "3654  2010-01-02                 17.0  GHCND:USW00014732           1.94   \n",
       "3655  2010-01-03                 18.0  GHCND:USW00014732           2.02   \n",
       "3656  2010-01-04                 21.0  GHCND:USW00014732           2.24   \n",
       "3657  2010-01-05                 22.0  GHCND:USW00014732           2.32   \n",
       "...          ...                  ...                ...            ...   \n",
       "7300  2019-12-27                 42.0  GHCND:USW00014732           3.82   \n",
       "7301  2019-12-28                 44.0  GHCND:USW00014732           3.97   \n",
       "7302  2019-12-29                 38.0  GHCND:USW00014732           3.52   \n",
       "7303  2019-12-30                 38.0  GHCND:USW00014732           3.52   \n",
       "7304  2019-12-31                 38.0  GHCND:USW00014732           3.52   \n",
       "\n",
       "      h2i_daily_cop  std_daily_power_kwh  h2i_daily_power_kwh  \\\n",
       "3653           3.39                54.99                49.80   \n",
       "3654           2.53                87.02                66.73   \n",
       "3655           2.59                83.57                65.18   \n",
       "3656           2.76                75.36                61.17   \n",
       "3657           2.82                72.77                59.86   \n",
       "...             ...                  ...                  ...   \n",
       "7300           3.97                44.19                42.52   \n",
       "7301           4.09                42.52                41.28   \n",
       "7302           3.74                47.96                45.14   \n",
       "7303           3.74                47.96                45.14   \n",
       "7304           3.74                47.96                45.14   \n",
       "\n",
       "      std_daily_cost_$  h2i_daily_cost_$  \n",
       "3653             12.65             11.45  \n",
       "3654             20.01             15.35  \n",
       "3655             19.22             14.99  \n",
       "3656             17.33             14.07  \n",
       "3657             16.74             13.77  \n",
       "...                ...               ...  \n",
       "7300             10.16              9.78  \n",
       "7301              9.78              9.49  \n",
       "7302             11.03             10.38  \n",
       "7303             11.03             10.38  \n",
       "7304             11.03             10.38  \n",
       "\n",
       "[3652 rows x 9 columns]"
      ]
     },
     "execution_count": 16,
     "metadata": {},
     "output_type": "execute_result"
    }
   ],
   "source": [
    "temps"
   ]
  },
  {
   "cell_type": "code",
   "execution_count": 17,
   "id": "46fe418f",
   "metadata": {},
   "outputs": [],
   "source": [
    "years = ['2010', '2011', '2012', '2013', '2014', '2015', '2016', '2017', '2018', '2019', '2020']\n",
    "\n",
    "yearly_cost_std = [(val, round(np.nansum(temps[(temps.Date > years[idx]) & \n",
    "                                               (temps.Date < years[idx+1])]['std_daily_cost_$']), 2))\n",
    "                   for idx, val in enumerate(years[:-1])] \n",
    "\n",
    "yearly_cost_h2i = [(val, round(np.nansum(temps[(temps.Date > years[idx]) & \n",
    "                                               (temps.Date < years[idx+1])]['h2i_daily_cost_$']), 2))\n",
    "                   for idx, val in enumerate(years[:-1])] "
   ]
  },
  {
   "cell_type": "code",
   "execution_count": 18,
   "id": "7db71033",
   "metadata": {
    "scrolled": true
   },
   "outputs": [],
   "source": [
    "# convert to dict\n",
    "cost_std = {}\n",
    "for item in yearly_cost_std:\n",
    "    year = item[0]\n",
    "    cost_std[year] = item[1]"
   ]
  },
  {
   "cell_type": "code",
   "execution_count": 19,
   "id": "6e3c6dce",
   "metadata": {},
   "outputs": [],
   "source": [
    "cost_h2i = {}\n",
    "for item in yearly_cost_h2i:\n",
    "    year = item[0]\n",
    "    cost_h2i[year] = item[1]"
   ]
  },
  {
   "cell_type": "markdown",
   "id": "c1274bc2",
   "metadata": {},
   "source": [
    "## Plot Annual Cost to Heat, side by side"
   ]
  },
  {
   "cell_type": "code",
   "execution_count": 20,
   "id": "e77d15fb",
   "metadata": {},
   "outputs": [
    {
     "data": {
      "image/png": "[encoded data removed]",
      "text/plain": [
       "<Figure size 432x288 with 1 Axes>"
      ]
     },
     "metadata": {
      "needs_background": "light"
     },
     "output_type": "display_data"
    }
   ],
   "source": [
    "fig, ax = plt.subplots()\n",
    "\n",
    "ind = np.arange(len(years[:-1]))    # the x locations for the groups\n",
    "width = 0.35         # the width of the bars\n",
    "\n",
    "ax.bar(ind, cost_std.values(), width, label='Standard')\n",
    "\n",
    "ax.bar(ind + width, cost_h2i.values(), width,\n",
    "       label='Hyper')\n",
    "\n",
    "ax.set_title('Heating Cost in $ Per Year')\n",
    "ax.set_xticks(ind + width / 2)\n",
    "ax.set_xticklabels(years[:-1])\n",
    "\n",
    "ax.legend()\n",
    "ax.autoscale_view()\n",
    "\n",
    "plt.show()"
   ]
  },
  {
   "cell_type": "markdown",
   "id": "9d994bcf",
   "metadata": {},
   "source": [
    "## Plot Annual Savings"
   ]
  },
  {
   "cell_type": "code",
   "execution_count": 21,
   "id": "83216876",
   "metadata": {},
   "outputs": [],
   "source": [
    "savings = np.array(list(cost_std.values())) - np.array(list(cost_h2i.values()))"
   ]
  },
  {
   "cell_type": "code",
   "execution_count": 22,
   "id": "9b21a8c3",
   "metadata": {},
   "outputs": [
    {
     "name": "stderr",
     "output_type": "stream",
     "text": [
      "<ipython-input-22-f6f828bd7b7a>:4: UserWarning: FixedFormatter should only be used together with FixedLocator\n",
      "  ax.set_xticklabels(years[:-1])\n"
     ]
    },
    {
     "data": {
      "image/png": "[encoded data removed]",
      "text/plain": [
       "<Figure size 432x288 with 1 Axes>"
      ]
     },
     "metadata": {
      "needs_background": "light"
     },
     "output_type": "display_data"
    }
   ],
   "source": [
    "fig = plt.figure()\n",
    "ax = fig.add_axes([0,0,1,1])\n",
    "ax.bar(years[:-1], savings)\n",
    "ax.set_xticklabels(years[:-1])\n",
    "ax.set_ylabel('Savings ($)')\n",
    "ax.set_xlabel('Year')\n",
    "ax.set_title('Annual Savings')\n",
    "plt.show()"
   ]
  },
  {
   "cell_type": "code",
   "execution_count": null,
   "id": "334d21a5",
   "metadata": {},
   "outputs": [],
   "source": []
  }
 ],
 "metadata": {
  "kernelspec": {
   "display_name": "Python 3",
   "language": "python",
   "name": "python3"
  },
  "language_info": {
   "codemirror_mode": {
    "name": "ipython",
    "version": 3
   },
   "file_extension": ".py",
   "mimetype": "text/x-python",
   "name": "python",
   "nbconvert_exporter": "python",
   "pygments_lexer": "ipython3",
   "version": "3.8.5"
  }
 },
 "nbformat": 4,
 "nbformat_minor": 5
}
