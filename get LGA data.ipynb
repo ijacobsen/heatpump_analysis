{
 "cells": [
  {
   "cell_type": "markdown",
   "id": "430d4f3c",
   "metadata": {},
   "source": [
    "LGA ID: GHCND:USW00014732"
   ]
  },
  {
   "cell_type": "code",
   "execution_count": 1,
   "id": "bce299dd",
   "metadata": {},
   "outputs": [],
   "source": [
    "import requests\n",
    "import pandas as pd\n",
    "\n",
    "token = 'qimPAqjWqvBnnolTSwjYZhgyJsvEXsNi'\n",
    "headers = {'token':token}\n",
    "url_base = 'https://www.ncdc.noaa.gov/cdo-web/api/v2/data?datasetid=GHCND\\\n",
    "&datatypeid=TMIN\\\n",
    "&locationid=ZIP:11371\\\n",
    "&limit=400\\\n",
    "&units=standard'"
   ]
  },
  {
   "cell_type": "code",
   "execution_count": 5,
   "id": "9405ebec",
   "metadata": {},
   "outputs": [],
   "source": [
    "columns = ['Date', 'Minimum Temperature', 'Station']\n",
    "data = pd.DataFrame(columns = columns)"
   ]
  },
  {
   "cell_type": "code",
   "execution_count": 6,
   "id": "529b0f4b",
   "metadata": {},
   "outputs": [],
   "source": [
    "years = ['200'+str(i) if i<10 else '20'+str(i) for i in range(22)]"
   ]
  },
  {
   "cell_type": "code",
   "execution_count": 7,
   "id": "457f8922",
   "metadata": {},
   "outputs": [],
   "source": [
    "for year in years:\n",
    "    url = url_base + '&startdate=' + year + '-01-01' + '&enddate=' + year + '-12-31'\n",
    "    response = requests.get(url, headers=headers)\n",
    "    pairs = []\n",
    "    for item in response.json()['results']:\n",
    "        daily = [item['date'][:10], item['value'], item['station']]\n",
    "        pairs.append(daily)\n",
    "    temp_df = pd.DataFrame(pairs, columns=columns)\n",
    "    data = data.append(temp_df, ignore_index=True)"
   ]
  },
  {
   "cell_type": "code",
   "execution_count": 8,
   "id": "fd6bbd0f",
   "metadata": {},
   "outputs": [
    {
     "data": {
      "text/html": [
       "<div>\n",
       "<style scoped>\n",
       "    .dataframe tbody tr th:only-of-type {\n",
       "        vertical-align: middle;\n",
       "    }\n",
       "\n",
       "    .dataframe tbody tr th {\n",
       "        vertical-align: top;\n",
       "    }\n",
       "\n",
       "    .dataframe thead th {\n",
       "        text-align: right;\n",
       "    }\n",
       "</style>\n",
       "<table border=\"1\" class=\"dataframe\">\n",
       "  <thead>\n",
       "    <tr style=\"text-align: right;\">\n",
       "      <th></th>\n",
       "      <th>Date</th>\n",
       "      <th>Minimum Temperature</th>\n",
       "      <th>Station</th>\n",
       "    </tr>\n",
       "  </thead>\n",
       "  <tbody>\n",
       "    <tr>\n",
       "      <th>0</th>\n",
       "      <td>2000-01-01</td>\n",
       "      <td>35.0</td>\n",
       "      <td>GHCND:USW00014732</td>\n",
       "    </tr>\n",
       "    <tr>\n",
       "      <th>1</th>\n",
       "      <td>2000-01-02</td>\n",
       "      <td>41.0</td>\n",
       "      <td>GHCND:USW00014732</td>\n",
       "    </tr>\n",
       "    <tr>\n",
       "      <th>2</th>\n",
       "      <td>2000-01-03</td>\n",
       "      <td>47.0</td>\n",
       "      <td>GHCND:USW00014732</td>\n",
       "    </tr>\n",
       "    <tr>\n",
       "      <th>3</th>\n",
       "      <td>2000-01-04</td>\n",
       "      <td>45.0</td>\n",
       "      <td>GHCND:USW00014732</td>\n",
       "    </tr>\n",
       "    <tr>\n",
       "      <th>4</th>\n",
       "      <td>2000-01-05</td>\n",
       "      <td>30.0</td>\n",
       "      <td>GHCND:USW00014732</td>\n",
       "    </tr>\n",
       "    <tr>\n",
       "      <th>...</th>\n",
       "      <td>...</td>\n",
       "      <td>...</td>\n",
       "      <td>...</td>\n",
       "    </tr>\n",
       "    <tr>\n",
       "      <th>7824</th>\n",
       "      <td>2021-06-03</td>\n",
       "      <td>61.0</td>\n",
       "      <td>GHCND:USW00014732</td>\n",
       "    </tr>\n",
       "    <tr>\n",
       "      <th>7825</th>\n",
       "      <td>2021-06-04</td>\n",
       "      <td>64.0</td>\n",
       "      <td>GHCND:USW00014732</td>\n",
       "    </tr>\n",
       "    <tr>\n",
       "      <th>7826</th>\n",
       "      <td>2021-06-05</td>\n",
       "      <td>66.0</td>\n",
       "      <td>GHCND:USW00014732</td>\n",
       "    </tr>\n",
       "    <tr>\n",
       "      <th>7827</th>\n",
       "      <td>2021-06-06</td>\n",
       "      <td>76.0</td>\n",
       "      <td>GHCND:USW00014732</td>\n",
       "    </tr>\n",
       "    <tr>\n",
       "      <th>7828</th>\n",
       "      <td>2021-06-07</td>\n",
       "      <td>76.0</td>\n",
       "      <td>GHCND:USW00014732</td>\n",
       "    </tr>\n",
       "  </tbody>\n",
       "</table>\n",
       "<p>7829 rows × 3 columns</p>\n",
       "</div>"
      ],
      "text/plain": [
       "            Date  Minimum Temperature            Station\n",
       "0     2000-01-01                 35.0  GHCND:USW00014732\n",
       "1     2000-01-02                 41.0  GHCND:USW00014732\n",
       "2     2000-01-03                 47.0  GHCND:USW00014732\n",
       "3     2000-01-04                 45.0  GHCND:USW00014732\n",
       "4     2000-01-05                 30.0  GHCND:USW00014732\n",
       "...          ...                  ...                ...\n",
       "7824  2021-06-03                 61.0  GHCND:USW00014732\n",
       "7825  2021-06-04                 64.0  GHCND:USW00014732\n",
       "7826  2021-06-05                 66.0  GHCND:USW00014732\n",
       "7827  2021-06-06                 76.0  GHCND:USW00014732\n",
       "7828  2021-06-07                 76.0  GHCND:USW00014732\n",
       "\n",
       "[7829 rows x 3 columns]"
      ]
     },
     "execution_count": 8,
     "metadata": {},
     "output_type": "execute_result"
    }
   ],
   "source": [
    "data"
   ]
  },
  {
   "cell_type": "code",
   "execution_count": 20,
   "id": "1da899f7",
   "metadata": {},
   "outputs": [],
   "source": [
    "data.to_pickle('lga_min_temp_2000-2021.pkl')"
   ]
  },
  {
   "cell_type": "code",
   "execution_count": null,
   "id": "f1f4de72",
   "metadata": {},
   "outputs": [],
   "source": []
  }
 ],
 "metadata": {
  "kernelspec": {
   "display_name": "Python 3",
   "language": "python",
   "name": "python3"
  },
  "language_info": {
   "codemirror_mode": {
    "name": "ipython",
    "version": 3
   },
   "file_extension": ".py",
   "mimetype": "text/x-python",
   "name": "python",
   "nbconvert_exporter": "python",
   "pygments_lexer": "ipython3",
   "version": "3.8.5"
  }
 },
 "nbformat": 4,
 "nbformat_minor": 5
}
